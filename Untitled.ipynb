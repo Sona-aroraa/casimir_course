{
 "cells": [
  {
   "cell_type": "code",
   "execution_count": 2,
   "id": "clear-concentration",
   "metadata": {},
   "outputs": [
    {
     "name": "stdout",
     "output_type": "stream",
     "text": [
      "0\n",
      "1.0\n"
     ]
    }
   ],
   "source": [
    "import urllib.request\n",
    "import feedparser\n",
    "import numpy as np\n",
    "\n",
    "base_url = 'http://export.arxiv.org/api/query?'\n",
    "search_query = urllib.parse.quote(\"ti:novel\")\n",
    "i=0\n",
    "end = 10000\n",
    "\n",
    "papers = np.zeros((10))\n",
    "# papers['2021'], papers['2020'], papers['2019'] = \n",
    "year = \"2021\" \n",
    " \n",
    "def findPapers(end, keyword):\n",
    "    '''\n",
    "    \n",
    "    '''\n",
    "    for i in range(0, end):\n",
    "        search_query = urllib.parse.quote(\"ti:\"+keyword)\n",
    "        \n",
    "        query = 'search_query=%s&start=%i&max_results=%i&sortBy=submittedDate&sortOrder=descending' % (search_query,\n",
    "                                                                 i,\n",
    "                                                                 i+1)\n",
    "\n",
    "        response = urllib.request.urlopen(base_url+query).read()\n",
    "        # parse the response using feedparser\n",
    "        feed = feedparser.parse(response)\n",
    "        print(i)\n",
    "        if feed.entries[i]['published'][:4]==\"2021\":\n",
    "    #         print(feed.entries[i]['published'])\n",
    "    #         print(feed.entries[i]['title'])\n",
    "            return papers[0] + 1\n",
    "        \n",
    "\n",
    "        elif feed.entries[i]['published'][:4]==\"2020\":\n",
    "            papers[1] = papers[1] + 1\n",
    "            print(feed.entries[i]['published'])\n",
    "    #         print(feed.entries[i]['title'])\n",
    "        elif feed.entries[i]['published'][:4]==\"2019\":\n",
    "            papers[2] = papers[2] + 1\n",
    "    #         print(feed.entries[i]['published'])\n",
    "    #         print(feed.entries[i]['title'])\n",
    "\n",
    "print(findPapers(200, \"novel\"))"
   ]
  },
  {
   "cell_type": "code",
   "execution_count": 26,
   "id": "polyphonic-cosmetic",
   "metadata": {},
   "outputs": [
    {
     "data": {
      "text/plain": [
       "{'bozo': False,\n",
       " 'entries': [],\n",
       " 'feed': {'links': [{'href': 'http://arxiv.org/api/query?search_query%3Dti%3Anovel%26id_list%3D%26start%3D215%26max_results%3D216',\n",
       "    'rel': 'self',\n",
       "    'type': 'application/atom+xml'}],\n",
       "  'title': 'ArXiv Query: search_query=ti:novel&amp;id_list=&amp;start=215&amp;max_results=216',\n",
       "  'title_detail': {'type': 'text/html',\n",
       "   'language': None,\n",
       "   'base': '',\n",
       "   'value': 'ArXiv Query: search_query=ti:novel&amp;id_list=&amp;start=215&amp;max_results=216'},\n",
       "  'id': 'http://arxiv.org/api/WTbmSbd+NH3ZJp1QFkoppfNa6F4',\n",
       "  'guidislink': True,\n",
       "  'link': 'http://arxiv.org/api/WTbmSbd+NH3ZJp1QFkoppfNa6F4',\n",
       "  'updated': '2021-01-27T00:00:00-05:00',\n",
       "  'updated_parsed': time.struct_time(tm_year=2021, tm_mon=1, tm_mday=27, tm_hour=5, tm_min=0, tm_sec=0, tm_wday=2, tm_yday=27, tm_isdst=0),\n",
       "  'opensearch_totalresults': '5222',\n",
       "  'opensearch_startindex': '215',\n",
       "  'opensearch_itemsperpage': '216'},\n",
       " 'headers': {},\n",
       " 'encoding': 'utf-8',\n",
       " 'version': 'atom10',\n",
       " 'namespaces': {'': 'http://www.w3.org/2005/Atom',\n",
       "  'opensearch': 'http://a9.com/-/spec/opensearch/1.1/'}}"
      ]
     },
     "execution_count": 26,
     "metadata": {},
     "output_type": "execute_result"
    }
   ],
   "source": [
    "feed\n",
    "\n"
   ]
  },
  {
   "cell_type": "code",
   "execution_count": 25,
   "id": "resident-meditation",
   "metadata": {},
   "outputs": [
    {
     "data": {
      "text/plain": [
       "[]"
      ]
     },
     "execution_count": 25,
     "metadata": {},
     "output_type": "execute_result"
    }
   ],
   "source": [
    "feed.entries"
   ]
  },
  {
   "cell_type": "code",
   "execution_count": 4,
   "id": "ranking-pennsylvania",
   "metadata": {},
   "outputs": [],
   "source": [
    "paper = [0]\n",
    "for i in range(5):\n",
    "    paper[0] = paper[0] +1"
   ]
  },
  {
   "cell_type": "code",
   "execution_count": 8,
   "id": "colonial-scope",
   "metadata": {},
   "outputs": [
    {
     "ename": "NameError",
     "evalue": "name 'feed' is not defined",
     "output_type": "error",
     "traceback": [
      "\u001b[0;31m---------------------------------------------------------------------------\u001b[0m",
      "\u001b[0;31mNameError\u001b[0m                                 Traceback (most recent call last)",
      "\u001b[0;32m<ipython-input-8-12bbc97127b1>\u001b[0m in \u001b[0;36m<module>\u001b[0;34m\u001b[0m\n\u001b[0;32m----> 1\u001b[0;31m \u001b[0mfeed\u001b[0m\u001b[0;34m.\u001b[0m\u001b[0mentries\u001b[0m\u001b[0;34m[\u001b[0m\u001b[0mi\u001b[0m\u001b[0;34m]\u001b[0m\u001b[0;34m[\u001b[0m\u001b[0;34m'published'\u001b[0m\u001b[0;34m]\u001b[0m\u001b[0;34m[\u001b[0m\u001b[0;34m:\u001b[0m\u001b[0;36m4\u001b[0m\u001b[0;34m]\u001b[0m\u001b[0;34m==\u001b[0m\u001b[0;34m\"2021\"\u001b[0m\u001b[0;34m\u001b[0m\u001b[0;34m\u001b[0m\u001b[0m\n\u001b[0m",
      "\u001b[0;31mNameError\u001b[0m: name 'feed' is not defined"
     ]
    }
   ],
   "source": [
    "feed.entries[i]['published'][:4]==\"2021\""
   ]
  },
  {
   "cell_type": "code",
   "execution_count": 13,
   "id": "economic-speaker",
   "metadata": {},
   "outputs": [
    {
     "data": {
      "text/plain": [
       "0.0"
      ]
     },
     "execution_count": 13,
     "metadata": {},
     "output_type": "execute_result"
    }
   ],
   "source": [
    "import numpy as np\n",
    "papers = np.zeros((10))\n",
    "papers[1]"
   ]
  },
  {
   "cell_type": "code",
   "execution_count": null,
   "id": "precise-nerve",
   "metadata": {},
   "outputs": [],
   "source": []
  }
 ],
 "metadata": {
  "kernelspec": {
   "display_name": "Python 3",
   "language": "python",
   "name": "python3"
  },
  "language_info": {
   "codemirror_mode": {
    "name": "ipython",
    "version": 3
   },
   "file_extension": ".py",
   "mimetype": "text/x-python",
   "name": "python",
   "nbconvert_exporter": "python",
   "pygments_lexer": "ipython3",
   "version": "3.8.6"
  }
 },
 "nbformat": 4,
 "nbformat_minor": 5
}
