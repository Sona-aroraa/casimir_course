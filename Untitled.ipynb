{
 "cells": [
  {
   "cell_type": "code",
   "execution_count": null,
   "id": "promotional-color",
   "metadata": {},
   "outputs": [
    {
     "name": "stdout",
     "output_type": "stream",
     "text": [
      "0\n",
      "1\n",
      "2\n",
      "3\n",
      "4\n",
      "5\n",
      "6\n",
      "7\n",
      "8\n",
      "9\n",
      "10\n",
      "11\n",
      "12\n",
      "13\n",
      "14\n",
      "15\n",
      "16\n",
      "17\n",
      "18\n",
      "19\n",
      "20\n",
      "21\n",
      "22\n",
      "23\n",
      "24\n",
      "25\n",
      "26\n",
      "27\n",
      "28\n",
      "29\n",
      "30\n",
      "2020-12-31T15:06:19Z\n",
      "31\n",
      "2020-12-30T17:17:08Z\n",
      "32\n",
      "2020-12-27T16:31:05Z\n",
      "33\n",
      "2020-12-23T14:17:33Z\n",
      "34\n",
      "2020-12-22T19:00:03Z\n",
      "35\n",
      "2020-12-22T18:46:12Z\n",
      "36\n",
      "2020-12-22T15:34:37Z\n",
      "37\n",
      "2020-12-22T03:37:54Z\n",
      "38\n",
      "2020-12-21T10:01:34Z\n",
      "39\n",
      "2020-12-19T15:42:24Z\n",
      "40\n",
      "2020-12-18T08:45:23Z\n",
      "41\n",
      "2020-12-16T21:51:25Z\n",
      "42\n",
      "2020-12-16T08:15:24Z\n",
      "43\n",
      "2020-12-16T06:41:48Z\n",
      "44\n",
      "2020-12-16T03:45:21Z\n",
      "45\n",
      "2020-12-15T16:36:42Z\n",
      "46\n",
      "2020-12-15T02:06:00Z\n",
      "47\n",
      "2020-12-14T17:03:06Z\n",
      "48\n",
      "2020-12-12T12:30:22Z\n",
      "49\n",
      "2020-12-11T18:59:47Z\n",
      "50\n",
      "2020-12-11T03:58:16Z\n",
      "51\n",
      "2020-12-10T10:22:11Z\n",
      "52\n",
      "2020-12-09T11:10:07Z\n",
      "53\n",
      "2020-12-08T15:24:25Z\n",
      "54\n",
      "2020-12-08T13:39:51Z\n",
      "55\n",
      "2020-12-08T09:52:50Z\n",
      "56\n",
      "2020-12-07T15:22:01Z\n",
      "57\n",
      "2020-12-07T12:58:16Z\n",
      "58\n",
      "2020-12-06T11:34:14Z\n",
      "59\n",
      "2020-12-04T13:14:00Z\n",
      "60\n",
      "2020-12-03T18:22:34Z\n",
      "61\n",
      "2020-12-03T14:28:38Z\n",
      "62\n",
      "2020-12-02T19:09:36Z\n",
      "63\n",
      "2020-12-02T10:54:44Z\n"
     ]
    }
   ],
   "source": [
    "import urllib.request\n",
    "import feedparser\n",
    "import numpy as np\n",
    "\n",
    "base_url = 'http://export.arxiv.org/api/query?'\n",
    "search_query = urllib.parse.quote(\"ti:novel\")\n",
    "i=0\n",
    "\n",
    "papers = np.zeros((10))\n",
    "# papers['2021'], papers['2020'], papers['2019'] = \n",
    "year = \"2021\" \n",
    " \n",
    "# def findPapers()\n",
    "# while \"published\" == \"2021\":\n",
    "for i in range(0, 10000):\n",
    "    query = 'search_query=%s&start=%i&max_results=%i&sortBy=submittedDate&sortOrder=descending' % (search_query,\n",
    "                                                             i,\n",
    "                                                             i+1)\n",
    "\n",
    "    response = urllib.request.urlopen(base_url+query).read()\n",
    "    # parse the response using feedparser\n",
    "    feed = feedparser.parse(response)\n",
    "    print(i)\n",
    "    if feed.entries[i]['published'][:4]==\"2021\":\n",
    "#         print(feed.entries[i]['published'])\n",
    "#         print(feed.entries[i]['title'])\n",
    "        papers[0] = papers[0] + 1\n",
    "        \n",
    "    elif feed.entries[i]['published'][:4]==\"2020\":\n",
    "        papers[1] = papers[1] + 1\n",
    "        print(feed.entries[i]['published'])\n",
    "#         print(feed.entries[i]['title'])\n",
    "    elif feed.entries[i]['published'][:4]==\"2019\":\n",
    "        papers[2] = papers[2] + 1\n",
    "#         print(feed.entries[i]['published'])\n",
    "#         print(feed.entries[i]['title'])\n",
    "papers"
   ]
  },
  {
   "cell_type": "code",
   "execution_count": 26,
   "id": "returning-winning",
   "metadata": {},
   "outputs": [
    {
     "data": {
      "text/plain": [
       "{'bozo': False,\n",
       " 'entries': [],\n",
       " 'feed': {'links': [{'href': 'http://arxiv.org/api/query?search_query%3Dti%3Anovel%26id_list%3D%26start%3D215%26max_results%3D216',\n",
       "    'rel': 'self',\n",
       "    'type': 'application/atom+xml'}],\n",
       "  'title': 'ArXiv Query: search_query=ti:novel&amp;id_list=&amp;start=215&amp;max_results=216',\n",
       "  'title_detail': {'type': 'text/html',\n",
       "   'language': None,\n",
       "   'base': '',\n",
       "   'value': 'ArXiv Query: search_query=ti:novel&amp;id_list=&amp;start=215&amp;max_results=216'},\n",
       "  'id': 'http://arxiv.org/api/WTbmSbd+NH3ZJp1QFkoppfNa6F4',\n",
       "  'guidislink': True,\n",
       "  'link': 'http://arxiv.org/api/WTbmSbd+NH3ZJp1QFkoppfNa6F4',\n",
       "  'updated': '2021-01-27T00:00:00-05:00',\n",
       "  'updated_parsed': time.struct_time(tm_year=2021, tm_mon=1, tm_mday=27, tm_hour=5, tm_min=0, tm_sec=0, tm_wday=2, tm_yday=27, tm_isdst=0),\n",
       "  'opensearch_totalresults': '5222',\n",
       "  'opensearch_startindex': '215',\n",
       "  'opensearch_itemsperpage': '216'},\n",
       " 'headers': {},\n",
       " 'encoding': 'utf-8',\n",
       " 'version': 'atom10',\n",
       " 'namespaces': {'': 'http://www.w3.org/2005/Atom',\n",
       "  'opensearch': 'http://a9.com/-/spec/opensearch/1.1/'}}"
      ]
     },
     "execution_count": 26,
     "metadata": {},
     "output_type": "execute_result"
    }
   ],
   "source": [
    "feed\n",
    "\n"
   ]
  },
  {
   "cell_type": "code",
   "execution_count": 25,
   "id": "successful-latin",
   "metadata": {},
   "outputs": [
    {
     "data": {
      "text/plain": [
       "[]"
      ]
     },
     "execution_count": 25,
     "metadata": {},
     "output_type": "execute_result"
    }
   ],
   "source": [
    "feed.entries"
   ]
  },
  {
   "cell_type": "code",
   "execution_count": 4,
   "id": "extended-george",
   "metadata": {},
   "outputs": [],
   "source": [
    "paper = [0]\n",
    "for i in range(5):\n",
    "    paper[0] = paper[0] +1"
   ]
  },
  {
   "cell_type": "code",
   "execution_count": 8,
   "id": "confident-press",
   "metadata": {},
   "outputs": [
    {
     "ename": "NameError",
     "evalue": "name 'feed' is not defined",
     "output_type": "error",
     "traceback": [
      "\u001b[0;31m---------------------------------------------------------------------------\u001b[0m",
      "\u001b[0;31mNameError\u001b[0m                                 Traceback (most recent call last)",
      "\u001b[0;32m<ipython-input-8-12bbc97127b1>\u001b[0m in \u001b[0;36m<module>\u001b[0;34m\u001b[0m\n\u001b[0;32m----> 1\u001b[0;31m \u001b[0mfeed\u001b[0m\u001b[0;34m.\u001b[0m\u001b[0mentries\u001b[0m\u001b[0;34m[\u001b[0m\u001b[0mi\u001b[0m\u001b[0;34m]\u001b[0m\u001b[0;34m[\u001b[0m\u001b[0;34m'published'\u001b[0m\u001b[0;34m]\u001b[0m\u001b[0;34m[\u001b[0m\u001b[0;34m:\u001b[0m\u001b[0;36m4\u001b[0m\u001b[0;34m]\u001b[0m\u001b[0;34m==\u001b[0m\u001b[0;34m\"2021\"\u001b[0m\u001b[0;34m\u001b[0m\u001b[0;34m\u001b[0m\u001b[0m\n\u001b[0m",
      "\u001b[0;31mNameError\u001b[0m: name 'feed' is not defined"
     ]
    }
   ],
   "source": [
    "feed.entries[i]['published'][:4]==\"2021\""
   ]
  },
  {
   "cell_type": "code",
   "execution_count": 13,
   "id": "bronze-shopper",
   "metadata": {},
   "outputs": [
    {
     "data": {
      "text/plain": [
       "0.0"
      ]
     },
     "execution_count": 13,
     "metadata": {},
     "output_type": "execute_result"
    }
   ],
   "source": [
    "import numpy as np\n",
    "papers = np.zeros((10))\n",
    "papers[1]"
   ]
  },
  {
   "cell_type": "code",
   "execution_count": null,
   "id": "discrete-broad",
   "metadata": {},
   "outputs": [],
   "source": []
  }
 ],
 "metadata": {
  "kernelspec": {
   "display_name": "Python 3",
   "language": "python",
   "name": "python3"
  },
  "language_info": {
   "codemirror_mode": {
    "name": "ipython",
    "version": 3
   },
   "file_extension": ".py",
   "mimetype": "text/x-python",
   "name": "python",
   "nbconvert_exporter": "python",
   "pygments_lexer": "ipython3",
   "version": "3.8.6"
  }
 },
 "nbformat": 4,
 "nbformat_minor": 5
}
